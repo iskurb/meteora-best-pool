{
  "nbformat": 4,
  "nbformat_minor": 0,
  "metadata": {
    "colab": {
      "provenance": [],
      "authorship_tag": "ABX9TyM1LOJENzd0mxYDezKLguE/",
      "include_colab_link": true
    },
    "kernelspec": {
      "name": "python3",
      "display_name": "Python 3"
    },
    "language_info": {
      "name": "python"
    }
  },
  "cells": [
    {
      "cell_type": "markdown",
      "metadata": {
        "id": "view-in-github",
        "colab_type": "text"
      },
      "source": [
        "<a href=\"https://colab.research.google.com/github/iskurb/meteora-best-pool/blob/main/meteora.ipynb\" target=\"_parent\"><img src=\"https://colab.research.google.com/assets/colab-badge.svg\" alt=\"Open In Colab\"/></a>"
      ]
    },
    {
      "cell_type": "code",
      "execution_count": null,
      "metadata": {
        "colab": {
          "base_uri": "https://localhost:8080/"
        },
        "id": "LOOK0x5NTJeC",
        "outputId": "bd06a4ed-f6bb-4cc8-b818-5fb7cba77173"
      },
      "source": [
        "!pip install aiohttp aiohttp_socks gradio\n",
        "!git clone https://github.com/iskurb/meteora-best-pool.git\n",
        "%cd /content/meteora-best-pool/meteora\n",
        "!python gradio_inter.py"
      ]
    }
  ]
}
