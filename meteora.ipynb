{
 "cells": [
  {
   "cell_type": "code",
   "execution_count": null,
   "metadata": {
    "id": "VjYy0F2gZIPR"
   },
   "outputs": [],
   "source": [
    "!pip install aiohttp aiohttp_socks gradio",
    "%cd /content\n",
    "!git clone https://github.com/iskurb/meteora-best-pool.git",
    "%cd /content/meteora-best-pool/meteora",
    "!python gradio_inter.py"
   ]
  }
 ],
 "metadata": {
  "accelerator": "GPU",
  "colab": {
   "gpuType": "T4",
   "provenance": []
  },
  "kernelspec": {
   "display_name": "Python 3",
   "name": "python3"
  },
  "language_info": {
   "name": "python"
  }
 },
 "nbformat": 4,
 "nbformat_minor": 0
}
